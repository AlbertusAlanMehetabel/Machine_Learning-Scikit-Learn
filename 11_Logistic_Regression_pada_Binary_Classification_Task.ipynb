{
 "cells": [
  {
   "attachments": {
    "Scikit-learn_logo.png": {
     "image/png": "[encoded data removed]"
    }
   },
   "cell_type": "markdown",
   "id": "49528d5e",
   "metadata": {},
   "source": [
    "![Scikit-learn_logo.png](attachment:Scikit-learn_logo.png)"
   ]
  },
  {
   "cell_type": "markdown",
   "id": "7588790c",
   "metadata": {},
   "source": [
    "# Title : Logistic Regression pada Binary Classification Task\n",
    "#### Source : https://youtu.be/oe7DW4rSH1o"
   ]
  },
  {
   "cell_type": "markdown",
   "id": "258874d1",
   "metadata": {},
   "source": [
    "Referensi: https://en.wikipedia.org/wiki/Logistic_regression"
   ]
  },
  {
   "cell_type": "markdown",
   "id": "f7eac8d0",
   "metadata": {},
   "source": [
    "### Formula Dasar"
   ]
  },
  {
   "cell_type": "markdown",
   "id": "4b345c5d",
   "metadata": {},
   "source": [
    "- Nilai sumbu x pada simple linear regression adalah feature tunggal.\n",
    "- Nilai sumbu x pada multiple linear regression adalah feature jamak.\n",
    "- Saat model logistic regression dijalankan maka kurva sigmoid akan terbentuk.\n",
    "- Dalam kurva tersebut, sumbu Y, selalu berada di rentang 0 s/d 1."
   ]
  },
  {
   "cell_type": "markdown",
   "id": "9dced1f1",
   "metadata": {},
   "source": [
    "#### Simple Linear Regression"
   ]
  },
  {
   "cell_type": "markdown",
   "id": "24be9bb5",
   "metadata": {},
   "source": [
    "- $y = \\alpha + \\beta x$\n",
    "- $g(x) = \\alpha + \\beta x$"
   ]
  },
  {
   "cell_type": "markdown",
   "id": "27fa9874",
   "metadata": {},
   "source": [
    "#### Multiple Linear Regression"
   ]
  },
  {
   "cell_type": "markdown",
   "id": "90dff44a",
   "metadata": {},
   "source": [
    "- $y = \\alpha + \\beta_1x_1 + \\beta_2x_2 + \\dots + \\beta_nx_n$\n",
    "- $g(X) = \\alpha + \\beta X$"
   ]
  },
  {
   "cell_type": "markdown",
   "id": "0fa23e21",
   "metadata": {},
   "source": [
    "#### Logistic Regression"
   ]
  },
  {
   "cell_type": "markdown",
   "id": "aab0cf2b",
   "metadata": {},
   "source": [
    "- $g(X) = sigmoid(\\alpha + \\beta X)$\n",
    "- $sigmoid(x) = \\frac{1}{1 + exp(-x)}$\n",
    "\n",
    "![](./images/sigmoid.png)"
   ]
  },
  {
   "cell_type": "markdown",
   "id": "3fb06f20",
   "metadata": {},
   "source": [
    "### Dataset: SMS Spam Collection Data Set"
   ]
  },
  {
   "cell_type": "markdown",
   "id": "c4286b68",
   "metadata": {},
   "source": [
    "Referensi: https://archive.ics.uci.edu/ml/datasets/SMS+Spam+Collection"
   ]
  },
  {
   "cell_type": "markdown",
   "id": "d424f48b",
   "metadata": {},
   "source": [
    "- Contoh dataset yang tidak imbang/ berantakan."
   ]
  },
  {
   "cell_type": "code",
   "execution_count": null,
   "id": "bba47e5a",
   "metadata": {},
   "outputs": [],
   "source": [
    "import pandas as pd\n",
    "\n",
    "df = pd.read_csv('./dataset/SMSSpamCollection',\n",
    "                 sep='\\t',\n",
    "                 header=None,\n",
    "                 names=['label', 'sms'])\n",
    "df.head()"
   ]
  },
  {
   "cell_type": "code",
   "execution_count": null,
   "id": "c660a49c",
   "metadata": {},
   "outputs": [],
   "source": [
    "df['label'].value_counts()"
   ]
  },
  {
   "cell_type": "markdown",
   "id": "db6d44b2",
   "metadata": {},
   "source": [
    "### Training & Testing Dataset"
   ]
  },
  {
   "cell_type": "markdown",
   "id": "da88cb98",
   "metadata": {},
   "source": [
    "- Fungsi LabelBinarizer() digunakan untuk mengkonversi nilai data menjadi biner.\n",
    "- Fungsi rave() digunakan untuk mengubah nilai array multidimensi menjadi 1 dimensi"
   ]
  },
  {
   "cell_type": "code",
   "execution_count": null,
   "id": "f97ac9ea",
   "metadata": {},
   "outputs": [],
   "source": [
    "from sklearn.preprocessing import LabelBinarizer\n",
    "\n",
    "X = df['sms'].values\n",
    "y = df['label'].values\n",
    "\n",
    "lb = LabelBinarizer()\n",
    "y = lb.fit_transform(y).ravel()\n",
    "lb.classes_"
   ]
  },
  {
   "cell_type": "code",
   "execution_count": null,
   "id": "afc105f6",
   "metadata": {},
   "outputs": [],
   "source": [
    "from sklearn.model_selection import train_test_split\n",
    "\n",
    "X_train, X_test, y_train, y_test = train_test_split(X,\n",
    "                                                    y,\n",
    "                                                    test_size=0.25,\n",
    "                                                    random_state=0)\n",
    "\n",
    "print(X_train, '\\n')\n",
    "print(y_train)"
   ]
  },
  {
   "cell_type": "markdown",
   "id": "f65b6326",
   "metadata": {},
   "source": [
    "### Feature Extraction dengan TF-IDF"
   ]
  },
  {
   "cell_type": "code",
   "execution_count": null,
   "id": "fe7c1c78",
   "metadata": {},
   "outputs": [],
   "source": [
    "from sklearn.feature_extraction.text import TfidfVectorizer\n",
    "\n",
    "vectorizer = TfidfVectorizer(stop_words='english')\n",
    "\n",
    "X_train_tfidf = vectorizer.fit_transform(X_train)\n",
    "X_test_tfidf = vectorizer.transform(X_test)\n",
    "\n",
    "print(X_train_tfidf)"
   ]
  },
  {
   "cell_type": "markdown",
   "id": "a89feab2",
   "metadata": {},
   "source": [
    "### Binary Classification dengan Logistic Regression"
   ]
  },
  {
   "cell_type": "code",
   "execution_count": null,
   "id": "228f6259",
   "metadata": {},
   "outputs": [],
   "source": [
    "from sklearn.linear_model import LogisticRegression\n",
    "\n",
    "model = LogisticRegression()\n",
    "model.fit(X_train_tfidf, y_train)\n",
    "y_pred = model.predict(X_test_tfidf)\n",
    "\n",
    "for pred, sms in zip(y_pred[:5], X_test[:5]):\n",
    "    print(f'PRED: {pred} - SMS: {sms}\\n')"
   ]
  },
  {
   "cell_type": "markdown",
   "id": "39f454f0",
   "metadata": {},
   "source": [
    "### Evaluation Metrics pada Binary Classification"
   ]
  },
  {
   "cell_type": "markdown",
   "id": "2d763e1f",
   "metadata": {},
   "source": [
    "- Confusion Matrix\n",
    "- Accuracy\n",
    "- Precission & Recall\n",
    "- F1 Score\n",
    "- ROC"
   ]
  },
  {
   "cell_type": "markdown",
   "id": "90269860",
   "metadata": {},
   "source": [
    "#### Terminologi Dasar"
   ]
  },
  {
   "cell_type": "markdown",
   "id": "6b65a170",
   "metadata": {},
   "source": [
    "- True Positive (TP)\n",
    "- True Negative (TN)\n",
    "- False Positive (FP)\n",
    "- False Negative (FN)"
   ]
  },
  {
   "cell_type": "markdown",
   "id": "e49e2919",
   "metadata": {},
   "source": [
    "#### Confusion Matrix"
   ]
  },
  {
   "cell_type": "markdown",
   "id": "76015a63",
   "metadata": {},
   "source": [
    "Confusion matrix seringkali juga dikenal sebagai error matrix.\n",
    "\n",
    "Referensi: https://en.wikipedia.org/wiki/Confusion_matrix"
   ]
  },
  {
   "cell_type": "markdown",
   "id": "fe8f6a88",
   "metadata": {},
   "source": [
    "- Digunakan untuk menampilkan nilai teminologi dasar"
   ]
  },
  {
   "cell_type": "code",
   "execution_count": null,
   "id": "5608f20a",
   "metadata": {},
   "outputs": [],
   "source": [
    "from sklearn.metrics import confusion_matrix\n",
    "\n",
    "matrix = confusion_matrix(y_test, y_pred)\n",
    "matrix"
   ]
  },
  {
   "cell_type": "code",
   "execution_count": null,
   "id": "a39564c4",
   "metadata": {},
   "outputs": [],
   "source": [
    "tn, fp, fn, tp = matrix.ravel()\n",
    "\n",
    "print(f'TN: {tn}')\n",
    "print(f'FP: {fp}')\n",
    "print(f'FN: {fn}')\n",
    "print(f'TP: {tp}')"
   ]
  },
  {
   "cell_type": "code",
   "execution_count": null,
   "id": "25070bb7",
   "metadata": {},
   "outputs": [],
   "source": [
    "import matplotlib.pyplot as plt\n",
    "\n",
    "plt.matshow(matrix)\n",
    "plt.colorbar()\n",
    "\n",
    "plt.title('Confusion Matrix')\n",
    "plt.ylabel('True label')\n",
    "plt.xlabel('Predicted label')\n",
    "plt.show()"
   ]
  },
  {
   "cell_type": "markdown",
   "id": "9a20a3a0",
   "metadata": {},
   "source": [
    "#### Accuracy"
   ]
  },
  {
   "cell_type": "markdown",
   "id": "44cbc2a7",
   "metadata": {},
   "source": [
    "Accuracy mengukur porsi dari hasil prediksi yang tepat.\n",
    "\n",
    "$Accuracy = \\frac{TP + TN}{TP + TN + FP + FN} = \\frac{correct}{total}$\n",
    "\n",
    "Referensi: https://en.wikipedia.org/wiki/Accuracy_and_precision"
   ]
  },
  {
   "cell_type": "code",
   "execution_count": null,
   "id": "b84c4c41",
   "metadata": {},
   "outputs": [],
   "source": [
    "from sklearn.metrics import accuracy_score\n",
    "\n",
    "accuracy_score(y_test, y_pred)"
   ]
  },
  {
   "cell_type": "markdown",
   "id": "1f2bca39",
   "metadata": {},
   "source": [
    "#### Precission & Recall"
   ]
  },
  {
   "cell_type": "markdown",
   "id": "321db6a1",
   "metadata": {},
   "source": [
    "Selain menggunakan accuracy, performa dari suatu classifier  umumnya juga diukur berdasarkan nilai Precission dan Recall.\n",
    "\n",
    "Referensi: https://en.wikipedia.org/wiki/Precision_and_recall"
   ]
  },
  {
   "cell_type": "markdown",
   "id": "473f6487",
   "metadata": {},
   "source": [
    "##### Precission or  Positive Predictive Value (PPV)"
   ]
  },
  {
   "cell_type": "markdown",
   "id": "4b094372",
   "metadata": {},
   "source": [
    "$Precission = \\frac{TP}{TP + FP}$\n",
    "\n",
    "Referensi: [https://en.wikipedia.org/wiki/Positive_and_negative_predictive_values]"
   ]
  },
  {
   "cell_type": "code",
   "execution_count": null,
   "id": "f0579f89",
   "metadata": {},
   "outputs": [],
   "source": [
    "from sklearn.metrics import precision_score\n",
    "\n",
    "precision_score(y_test, y_pred)"
   ]
  },
  {
   "cell_type": "markdown",
   "id": "828e43a0",
   "metadata": {},
   "source": [
    "##### Recall or  True Positive Rate (TPR) or Sensitivity"
   ]
  },
  {
   "cell_type": "markdown",
   "id": "a9a11b81",
   "metadata": {},
   "source": [
    "$Recall = \\frac{TP}{TP + FN}$\n",
    "\n",
    "\n",
    "Referensi: https://en.wikipedia.org/wiki/Sensitivity_and_specificity"
   ]
  },
  {
   "cell_type": "code",
   "execution_count": null,
   "id": "27e814c4",
   "metadata": {},
   "outputs": [],
   "source": [
    "from sklearn.metrics import recall_score\n",
    "\n",
    "recall_score(y_test, y_pred)"
   ]
  },
  {
   "cell_type": "markdown",
   "id": "b5401ad5",
   "metadata": {},
   "source": [
    "#### F1-Score"
   ]
  },
  {
   "cell_type": "code",
   "execution_count": null,
   "id": "b2522fd0",
   "metadata": {},
   "outputs": [],
   "source": [
    "from sklearn.metrics import f1_score\n",
    "\n",
    "f1_score(y_test, y_pred)"
   ]
  },
  {
   "cell_type": "markdown",
   "id": "a245b160",
   "metadata": {},
   "source": [
    "#### ROC: Receiver Operating Characteristic"
   ]
  },
  {
   "cell_type": "markdown",
   "id": "c7f436bf",
   "metadata": {},
   "source": [
    "ROC menawarkan visualisasi terhadap performa dari classifier dengan membandingkan nilai Recall (TPR) dan nilai Fallout (FPR)\n",
    "\n",
    "$fallout = \\frac{FP}{TN+FP}$\n",
    "\n",
    "Referensi: https://en.wikipedia.org/wiki/Receiver_operating_characteristic\n",
    "\n",
    "![](./images/ROC.png)\n",
    "\n",
    "- Garis berwarna biru mengindikasikan performa terbaik.\n",
    "- Garis berwarna orange mengindikasikan performa menengah.\n",
    "- Garis berwarna hijau mengindikasikan performa terburuk.\n",
    "- Semakin ke kiri atas suatu model, maka performa yang ditunjukan semakin baik."
   ]
  },
  {
   "cell_type": "code",
   "execution_count": null,
   "id": "9b88c6c8",
   "metadata": {},
   "outputs": [],
   "source": [
    "from sklearn.metrics import roc_curve, auc\n",
    "\n",
    "prob_estimates = model.predict_proba(X_test_tfidf)\n",
    "\n",
    "fpr, tpr, threshhold = roc_curve(y_test, prob_estimates[:, 1])\n",
    "nilai_auc = auc(fpr, tpr)\n",
    "\n",
    "plt.plot(fpr, tpr, 'b', label=f'AUC={nilai_auc}')\n",
    "plt.plot([0,1], [0,1], 'r--', label='Random CLassifier')\n",
    "\n",
    "plt.title('ROC: Receiver Operating Characteristic')\n",
    "plt.xlabel('Fallout or False Positive Rate')\n",
    "plt.ylabel('Recall or True Positive Rate')\n",
    "plt.legend()\n",
    "plt.show()"
   ]
  }
 ],
 "metadata": {
  "kernelspec": {
   "display_name": "Python 3",
   "language": "python",
   "name": "python3"
  },
  "language_info": {
   "codemirror_mode": {
    "name": "ipython",
    "version": 3
   },
   "file_extension": ".py",
   "mimetype": "text/x-python",
   "name": "python",
   "nbconvert_exporter": "python",
   "pygments_lexer": "ipython3",
   "version": "3.8.8"
  }
 },
 "nbformat": 4,
 "nbformat_minor": 5
}
