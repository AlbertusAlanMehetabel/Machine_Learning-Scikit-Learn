{
 "cells": [
  {
   "attachments": {
    "Scikit-learn_logo.png": {
     "image/png": "[encoded data removed]"
    }
   },
   "cell_type": "markdown",
   "id": "73af37c0",
   "metadata": {},
   "source": [
    "![Scikit-learn_logo.png](attachment:Scikit-learn_logo.png)"
   ]
  },
  {
   "cell_type": "markdown",
   "id": "2c7a62c4",
   "metadata": {},
   "source": [
    "# Title : Classification dengan KNN | K-Nearest Neighbours\n",
    "#### Source : https://youtu.be/4zARMcgc7hA"
   ]
  },
  {
   "cell_type": "markdown",
   "id": "a57ab75a",
   "metadata": {},
   "source": [
    "- KNN adalah model machine learning yang dapat digunakan untuk melakukan prediksi berdasarkan kedekatan karakteristik dengan sejumlah tetangga terdekat.\n",
    "- Prediksi yang dilakukan dapat diterapkan baik pada classification maupun regression tasks.\n",
    "\n",
    "Referensi: https://en.wikipedia.org/wiki/K-nearest_neighbors_algorithm"
   ]
  },
  {
   "cell_type": "markdown",
   "id": "31b3ca50",
   "metadata": {},
   "source": [
    "### Sample Dataset"
   ]
  },
  {
   "cell_type": "markdown",
   "id": "dd44d9bd",
   "metadata": {},
   "source": [
    "- Membuat dataset menggunakan dictionary dimana tinggi dan berat akan menjadi features dan jenis kelamin/ jk akan menjadi target.\n",
    "- Membuat dataframe dari dataset sensus"
   ]
  },
  {
   "cell_type": "code",
   "execution_count": 1,
   "id": "f993a77f",
   "metadata": {},
   "outputs": [
    {
     "data": {
      "text/html": [
       "<div>\n",
       "<style scoped>\n",
       "    .dataframe tbody tr th:only-of-type {\n",
       "        vertical-align: middle;\n",
       "    }\n",
       "\n",
       "    .dataframe tbody tr th {\n",
       "        vertical-align: top;\n",
       "    }\n",
       "\n",
       "    .dataframe thead th {\n",
       "        text-align: right;\n",
       "    }\n",
       "</style>\n",
       "<table border=\"1\" class=\"dataframe\">\n",
       "  <thead>\n",
       "    <tr style=\"text-align: right;\">\n",
       "      <th></th>\n",
       "      <th>tinggi</th>\n",
       "      <th>berat</th>\n",
       "      <th>jk</th>\n",
       "    </tr>\n",
       "  </thead>\n",
       "  <tbody>\n",
       "    <tr>\n",
       "      <th>0</th>\n",
       "      <td>158</td>\n",
       "      <td>64</td>\n",
       "      <td>pria</td>\n",
       "    </tr>\n",
       "    <tr>\n",
       "      <th>1</th>\n",
       "      <td>170</td>\n",
       "      <td>86</td>\n",
       "      <td>pria</td>\n",
       "    </tr>\n",
       "    <tr>\n",
       "      <th>2</th>\n",
       "      <td>183</td>\n",
       "      <td>84</td>\n",
       "      <td>pria</td>\n",
       "    </tr>\n",
       "    <tr>\n",
       "      <th>3</th>\n",
       "      <td>191</td>\n",
       "      <td>80</td>\n",
       "      <td>pria</td>\n",
       "    </tr>\n",
       "    <tr>\n",
       "      <th>4</th>\n",
       "      <td>155</td>\n",
       "      <td>49</td>\n",
       "      <td>wanita</td>\n",
       "    </tr>\n",
       "    <tr>\n",
       "      <th>5</th>\n",
       "      <td>163</td>\n",
       "      <td>59</td>\n",
       "      <td>wanita</td>\n",
       "    </tr>\n",
       "    <tr>\n",
       "      <th>6</th>\n",
       "      <td>180</td>\n",
       "      <td>67</td>\n",
       "      <td>wanita</td>\n",
       "    </tr>\n",
       "    <tr>\n",
       "      <th>7</th>\n",
       "      <td>158</td>\n",
       "      <td>54</td>\n",
       "      <td>wanita</td>\n",
       "    </tr>\n",
       "    <tr>\n",
       "      <th>8</th>\n",
       "      <td>178</td>\n",
       "      <td>67</td>\n",
       "      <td>wanita</td>\n",
       "    </tr>\n",
       "  </tbody>\n",
       "</table>\n",
       "</div>"
      ],
      "text/plain": [
       "   tinggi  berat      jk\n",
       "0     158     64    pria\n",
       "1     170     86    pria\n",
       "2     183     84    pria\n",
       "3     191     80    pria\n",
       "4     155     49  wanita\n",
       "5     163     59  wanita\n",
       "6     180     67  wanita\n",
       "7     158     54  wanita\n",
       "8     178     67  wanita"
      ]
     },
     "execution_count": 1,
     "metadata": {},
     "output_type": "execute_result"
    }
   ],
   "source": [
    "import pandas as pd\n",
    "\n",
    "sensus = {\n",
    "    'tinggi': [158, 170, 183, 191, 155, 163, 180, 158, 178],\n",
    "    'berat': [64, 86, 84, 80, 49, 59, 67, 54, 67],\n",
    "    'jk': [\n",
    "        'pria', 'pria', 'pria', 'pria', 'wanita', 'wanita', 'wanita', 'wanita',\n",
    "        'wanita'\n",
    "    ]\n",
    "}\n",
    "\n",
    "sensus_df = pd.DataFrame(sensus)\n",
    "sensus_df"
   ]
  },
  {
   "cell_type": "markdown",
   "id": "f751c098",
   "metadata": {},
   "source": [
    "### Visualisasi Data"
   ]
  },
  {
   "cell_type": "markdown",
   "id": "5d81b776",
   "metadata": {},
   "source": [
    "- Menggunakan subplots untuk menghasilkan visualisasi data.\n",
    "- Kemudian, sensus_df dilooping dengan mengelompokkan jk dan menghasilkan 2 buah keluaran\n",
    "- Fungsi `scatter()` memerlukan minimal 2 buah parameter\n",
    "    - Parameter pertama merupakan sumbu x.\n",
    "    - Parameter kedua merupakan sumbu Y."
   ]
  },
  {
   "cell_type": "code",
   "execution_count": 2,
   "id": "25381dd7",
   "metadata": {},
   "outputs": [
    {
     "data": {
      "image/png": "[encoded data removed]",
      "text/plain": [
       "<Figure size 432x288 with 1 Axes>"
      ]
     },
     "metadata": {
      "needs_background": "light"
     },
     "output_type": "display_data"
    }
   ],
   "source": [
    "import matplotlib.pyplot as plt\n",
    "\n",
    "fig, ax = plt.subplots()\n",
    "for jk, d in sensus_df.groupby('jk'):\n",
    "    ax.scatter(d['tinggi'], d['berat'], label=jk)\n",
    "\n",
    "plt.legend(loc='upper left')\n",
    "plt.title('Sebaran Data Tinggi Badan, Berat Badan, dan Jenis Kelamin')\n",
    "plt.xlabel('Tinggi Badan (cm)')\n",
    "plt.ylabel('Berat Badan (kg)')\n",
    "plt.grid(True)\n",
    "plt.show()"
   ]
  },
  {
   "cell_type": "markdown",
   "id": "ae01ff66",
   "metadata": {},
   "source": [
    "### Classification dengan KNN"
   ]
  },
  {
   "cell_type": "markdown",
   "id": "ed550581",
   "metadata": {},
   "source": [
    "#### Preprocessing Dataset"
   ]
  },
  {
   "cell_type": "markdown",
   "id": "3397bcdc",
   "metadata": {},
   "source": [
    "- Fungsi `np.array()` digunakan untuk mengelompokkan features dan target dari sensus_df menjadi training set.\n",
    "- Fungsi `LabelBinarizer().fit_transform()` digunakan untuk mengubah nilai string menjadi nilai biner.\n",
    "- Setelah nilai Y diubah menjadi binner kemudian diubah menjadi array 1 dimensi menggunakan fungsi `flatten()`."
   ]
  },
  {
   "cell_type": "code",
   "execution_count": 3,
   "id": "f1441019",
   "metadata": {},
   "outputs": [
    {
     "name": "stdout",
     "output_type": "stream",
     "text": [
      "X_train:\n",
      "[[158  64]\n",
      " [170  86]\n",
      " [183  84]\n",
      " [191  80]\n",
      " [155  49]\n",
      " [163  59]\n",
      " [180  67]\n",
      " [158  54]\n",
      " [178  67]]\n",
      "\n",
      "y_train: ['pria' 'pria' 'pria' 'pria' 'wanita' 'wanita' 'wanita' 'wanita' 'wanita']\n"
     ]
    }
   ],
   "source": [
    "import numpy as np\n",
    "\n",
    "X_train = np.array(sensus_df[['tinggi', 'berat']])\n",
    "y_train = np.array(sensus_df['jk'])\n",
    "\n",
    "print(f'X_train:\\n{X_train}\\n')\n",
    "print(f'y_train: {y_train}')"
   ]
  },
  {
   "cell_type": "code",
   "execution_count": 4,
   "id": "b3eb06d3",
   "metadata": {},
   "outputs": [
    {
     "name": "stdout",
     "output_type": "stream",
     "text": [
      "y_train:\n",
      "[[0]\n",
      " [0]\n",
      " [0]\n",
      " [0]\n",
      " [1]\n",
      " [1]\n",
      " [1]\n",
      " [1]\n",
      " [1]]\n"
     ]
    }
   ],
   "source": [
    "from sklearn.preprocessing import LabelBinarizer\n",
    "\n",
    "lb = LabelBinarizer()\n",
    "y_train = lb.fit_transform(y_train)\n",
    "print(f'y_train:\\n{y_train}')"
   ]
  },
  {
   "cell_type": "code",
   "execution_count": 5,
   "id": "27f68978",
   "metadata": {},
   "outputs": [
    {
     "name": "stdout",
     "output_type": "stream",
     "text": [
      "y_train: [0 0 0 0 1 1 1 1 1]\n"
     ]
    }
   ],
   "source": [
    "y_train = y_train.flatten()\n",
    "print(f'y_train: {y_train}')"
   ]
  },
  {
   "cell_type": "markdown",
   "id": "f9f7e041",
   "metadata": {},
   "source": [
    "#### Training KNN Classification Model"
   ]
  },
  {
   "cell_type": "markdown",
   "id": "0a8094b1",
   "metadata": {},
   "source": [
    "- Membuat object KNN dengan nilai neighborsnya 3.\n",
    "- Kemudian training menggunakan fungsi `fit()`.\n",
    "    - Parameter pertama berisi nilai features.\n",
    "    - Parameter kedua berisi nilai target."
   ]
  },
  {
   "cell_type": "code",
   "execution_count": 6,
   "id": "72f2d835",
   "metadata": {},
   "outputs": [
    {
     "data": {
      "text/plain": [
       "KNeighborsClassifier(n_neighbors=3)"
      ]
     },
     "execution_count": 6,
     "metadata": {},
     "output_type": "execute_result"
    }
   ],
   "source": [
    "from sklearn.neighbors import KNeighborsClassifier\n",
    "\n",
    "K = 3\n",
    "model = KNeighborsClassifier(n_neighbors=K)\n",
    "model.fit(X_train, y_train)"
   ]
  },
  {
   "cell_type": "markdown",
   "id": "940b80b7",
   "metadata": {},
   "source": [
    "#### Prediksi Jenis Kelamin"
   ]
  },
  {
   "cell_type": "markdown",
   "id": "5df51b4e",
   "metadata": {},
   "source": [
    "- Membuat array 2 dimensi menggunakan fungsi `reshape()` yang berisi nilai tinggi badan dan berat badan.\n",
    "- Membuat nilai prediksi target dari nilai features\n",
    "- Dan, mengembalikan nilai yang sebelumnya telah diubah menjadi biner menjadu string kembali menggunakan fungsi `inverse_transform()`."
   ]
  },
  {
   "cell_type": "code",
   "execution_count": 7,
   "id": "17f30c82",
   "metadata": {},
   "outputs": [
    {
     "data": {
      "text/plain": [
       "array([[155,  70]])"
      ]
     },
     "execution_count": 7,
     "metadata": {},
     "output_type": "execute_result"
    }
   ],
   "source": [
    "tinggi_badan = 155\n",
    "berat_badan = 70\n",
    "X_new = np.array([tinggi_badan, berat_badan]).reshape(1, -1)\n",
    "X_new"
   ]
  },
  {
   "cell_type": "code",
   "execution_count": 8,
   "id": "f26e5b1d",
   "metadata": {},
   "outputs": [
    {
     "data": {
      "text/plain": [
       "array([1])"
      ]
     },
     "execution_count": 8,
     "metadata": {},
     "output_type": "execute_result"
    }
   ],
   "source": [
    "y_new = model.predict(X_new)\n",
    "y_new"
   ]
  },
  {
   "cell_type": "code",
   "execution_count": 9,
   "id": "3980a609",
   "metadata": {},
   "outputs": [
    {
     "data": {
      "text/plain": [
       "array(['wanita'], dtype='<U6')"
      ]
     },
     "execution_count": 9,
     "metadata": {},
     "output_type": "execute_result"
    }
   ],
   "source": [
    "lb.inverse_transform(y_new)"
   ]
  },
  {
   "cell_type": "markdown",
   "id": "5737e2c0",
   "metadata": {},
   "source": [
    "#### Visualisasi Nearest Neighbours"
   ]
  },
  {
   "cell_type": "markdown",
   "id": "21c60001",
   "metadata": {},
   "source": [
    "- Menggunakan subplots untuk menghasilkan visualisasi data.\n",
    "- Kemudian, sensus_df dilooping dengan mengelompokkan jk dan menghasilkan 2 buah keluaran\n",
    "- Fungsi `scatter()` memerlukan minimal 2 buah parameter\n",
    "    - Parameter pertama merupakan sumbu x.\n",
    "    - Parameter kedua merupakan sumbu Y.\n",
    "- Membuat scatter plot dimana sumbu x akan diisi oleh tinggi badan dan sumbu y akan diisi oleh berat badan.\n",
    "- Dari hasil plotting terlihat bahwa misterius berada dekat dengan 1 pria dan 2 wanita, sehingga bisa dprediksi msiterius adalah wanita."
   ]
  },
  {
   "cell_type": "code",
   "execution_count": 10,
   "id": "27e68c05",
   "metadata": {},
   "outputs": [
    {
     "data": {
      "image/png": "[encoded data removed]",
      "text/plain": [
       "<Figure size 432x288 with 1 Axes>"
      ]
     },
     "metadata": {
      "needs_background": "light"
     },
     "output_type": "display_data"
    }
   ],
   "source": [
    "fig, ax = plt.subplots()\n",
    "for jk, d in sensus_df.groupby('jk'):\n",
    "    ax.scatter(d['tinggi'], d['berat'], label=jk)\n",
    "\n",
    "plt.scatter(tinggi_badan,\n",
    "            berat_badan,\n",
    "            marker='s',\n",
    "            color='red',\n",
    "            label='misterius')\n",
    "\n",
    "plt.legend(loc='upper left')\n",
    "plt.title('Sebaran Data Tinggi Badan, Berat Badan, dan Jenis Kelamin')\n",
    "plt.xlabel('Tinggi Badan (cm)')\n",
    "plt.ylabel('Berat Badan (kg)')\n",
    "plt.grid(True)\n",
    "plt.show()"
   ]
  },
  {
   "cell_type": "markdown",
   "id": "2f800c43",
   "metadata": {},
   "source": [
    "#### Kalkulasi Distance (Euclidean Distance)"
   ]
  },
  {
   "cell_type": "markdown",
   "id": "c30a28df",
   "metadata": {},
   "source": [
    "$distance = \\sqrt{ (t_1 - t_2)^2 + (b_1 - b_2)^2 }$\n",
    "\n",
    "Referensi: https://en.wikipedia.org/wiki/Euclidean_distance"
   ]
  },
  {
   "cell_type": "markdown",
   "id": "f7150083",
   "metadata": {},
   "source": [
    "- Membuat array dari tinggi dan berat badan\n",
    "- Menghitung jarak nilai misterius dan setiap nilai x_train.\n",
    "- Membuat kolom 'jarak' pada dataframe sensus yang berisi data jarak yang telah dihitung sebelumnnya\n",
    "- Kemudian, mengurutkan nilai sensus dari nilai jarak yang paling kecil menuju terbesar."
   ]
  },
  {
   "cell_type": "code",
   "execution_count": 11,
   "id": "a7e8a253",
   "metadata": {},
   "outputs": [
    {
     "data": {
      "text/plain": [
       "array([155,  70])"
      ]
     },
     "execution_count": 11,
     "metadata": {},
     "output_type": "execute_result"
    }
   ],
   "source": [
    "misterius = np.array([tinggi_badan, berat_badan])\n",
    "misterius"
   ]
  },
  {
   "cell_type": "code",
   "execution_count": 12,
   "id": "b991293b",
   "metadata": {},
   "outputs": [
    {
     "data": {
      "text/plain": [
       "array([[158,  64],\n",
       "       [170,  86],\n",
       "       [183,  84],\n",
       "       [191,  80],\n",
       "       [155,  49],\n",
       "       [163,  59],\n",
       "       [180,  67],\n",
       "       [158,  54],\n",
       "       [178,  67]], dtype=int64)"
      ]
     },
     "execution_count": 12,
     "metadata": {},
     "output_type": "execute_result"
    }
   ],
   "source": [
    "X_train"
   ]
  },
  {
   "cell_type": "code",
   "execution_count": 13,
   "id": "afdb6c85",
   "metadata": {},
   "outputs": [
    {
     "data": {
      "text/plain": [
       "[6.708203932499369,\n",
       " 21.93171219946131,\n",
       " 31.304951684997057,\n",
       " 37.36308338453881,\n",
       " 21.0,\n",
       " 13.601470508735444,\n",
       " 25.179356624028344,\n",
       " 16.278820596099706,\n",
       " 23.194827009486403]"
      ]
     },
     "execution_count": 13,
     "metadata": {},
     "output_type": "execute_result"
    }
   ],
   "source": [
    "from scipy.spatial.distance import euclidean\n",
    "\n",
    "data_jarak = [euclidean(misterius, d) for d in X_train]\n",
    "data_jarak"
   ]
  },
  {
   "cell_type": "code",
   "execution_count": 14,
   "id": "7aead796",
   "metadata": {},
   "outputs": [
    {
     "data": {
      "text/html": [
       "<div>\n",
       "<style scoped>\n",
       "    .dataframe tbody tr th:only-of-type {\n",
       "        vertical-align: middle;\n",
       "    }\n",
       "\n",
       "    .dataframe tbody tr th {\n",
       "        vertical-align: top;\n",
       "    }\n",
       "\n",
       "    .dataframe thead th {\n",
       "        text-align: right;\n",
       "    }\n",
       "</style>\n",
       "<table border=\"1\" class=\"dataframe\">\n",
       "  <thead>\n",
       "    <tr style=\"text-align: right;\">\n",
       "      <th></th>\n",
       "      <th>tinggi</th>\n",
       "      <th>berat</th>\n",
       "      <th>jk</th>\n",
       "      <th>jarak</th>\n",
       "    </tr>\n",
       "  </thead>\n",
       "  <tbody>\n",
       "    <tr>\n",
       "      <th>0</th>\n",
       "      <td>158</td>\n",
       "      <td>64</td>\n",
       "      <td>pria</td>\n",
       "      <td>6.708204</td>\n",
       "    </tr>\n",
       "    <tr>\n",
       "      <th>5</th>\n",
       "      <td>163</td>\n",
       "      <td>59</td>\n",
       "      <td>wanita</td>\n",
       "      <td>13.601471</td>\n",
       "    </tr>\n",
       "    <tr>\n",
       "      <th>7</th>\n",
       "      <td>158</td>\n",
       "      <td>54</td>\n",
       "      <td>wanita</td>\n",
       "      <td>16.278821</td>\n",
       "    </tr>\n",
       "    <tr>\n",
       "      <th>4</th>\n",
       "      <td>155</td>\n",
       "      <td>49</td>\n",
       "      <td>wanita</td>\n",
       "      <td>21.000000</td>\n",
       "    </tr>\n",
       "    <tr>\n",
       "      <th>1</th>\n",
       "      <td>170</td>\n",
       "      <td>86</td>\n",
       "      <td>pria</td>\n",
       "      <td>21.931712</td>\n",
       "    </tr>\n",
       "    <tr>\n",
       "      <th>8</th>\n",
       "      <td>178</td>\n",
       "      <td>67</td>\n",
       "      <td>wanita</td>\n",
       "      <td>23.194827</td>\n",
       "    </tr>\n",
       "    <tr>\n",
       "      <th>6</th>\n",
       "      <td>180</td>\n",
       "      <td>67</td>\n",
       "      <td>wanita</td>\n",
       "      <td>25.179357</td>\n",
       "    </tr>\n",
       "    <tr>\n",
       "      <th>2</th>\n",
       "      <td>183</td>\n",
       "      <td>84</td>\n",
       "      <td>pria</td>\n",
       "      <td>31.304952</td>\n",
       "    </tr>\n",
       "    <tr>\n",
       "      <th>3</th>\n",
       "      <td>191</td>\n",
       "      <td>80</td>\n",
       "      <td>pria</td>\n",
       "      <td>37.363083</td>\n",
       "    </tr>\n",
       "  </tbody>\n",
       "</table>\n",
       "</div>"
      ],
      "text/plain": [
       "   tinggi  berat      jk      jarak\n",
       "0     158     64    pria   6.708204\n",
       "5     163     59  wanita  13.601471\n",
       "7     158     54  wanita  16.278821\n",
       "4     155     49  wanita  21.000000\n",
       "1     170     86    pria  21.931712\n",
       "8     178     67  wanita  23.194827\n",
       "6     180     67  wanita  25.179357\n",
       "2     183     84    pria  31.304952\n",
       "3     191     80    pria  37.363083"
      ]
     },
     "execution_count": 14,
     "metadata": {},
     "output_type": "execute_result"
    }
   ],
   "source": [
    "sensus_df['jarak'] = data_jarak\n",
    "sensus_df.sort_values(['jarak'])"
   ]
  },
  {
   "cell_type": "markdown",
   "id": "326d72b9",
   "metadata": {},
   "source": [
    "#### Evaluasi KNN Classification Model"
   ]
  },
  {
   "cell_type": "markdown",
   "id": "eb4a3975",
   "metadata": {},
   "source": [
    "##### Testing Set"
   ]
  },
  {
   "cell_type": "markdown",
   "id": "7a4a290b",
   "metadata": {},
   "source": [
    "- Membuat array dari sekumpulan nilai target tinggi dan berat badan.\n",
    "- Membuat array dari nilai target yaitu jenis kelamin yang kemudian di ubah menjadi nilai biner dan diubah menjadi array 1 dimensi."
   ]
  },
  {
   "cell_type": "code",
   "execution_count": 15,
   "id": "de7a3b52",
   "metadata": {},
   "outputs": [
    {
     "name": "stdout",
     "output_type": "stream",
     "text": [
      "X_test:\n",
      "[[168  65]\n",
      " [180  96]\n",
      " [160  52]\n",
      " [169  67]]\n",
      "\n",
      "y_test:\n",
      "[0 0 1 1]\n"
     ]
    }
   ],
   "source": [
    "X_test = np.array([[168, 65], [180, 96], [160, 52], [169, 67]])\n",
    "y_test = lb.transform(np.array(['pria', 'pria', 'wanita', 'wanita'])).flatten()\n",
    "\n",
    "print(f'X_test:\\n{X_test}\\n')\n",
    "print(f'y_test:\\n{y_test}')"
   ]
  },
  {
   "cell_type": "markdown",
   "id": "495f2da8",
   "metadata": {},
   "source": [
    "##### Prediksi terhadap testing set"
   ]
  },
  {
   "cell_type": "markdown",
   "id": "ca35eed1",
   "metadata": {},
   "source": [
    "- Melakukan prediksi nilai target dari nilai features."
   ]
  },
  {
   "cell_type": "code",
   "execution_count": 16,
   "id": "04198458",
   "metadata": {},
   "outputs": [
    {
     "data": {
      "text/plain": [
       "array([1, 0, 1, 1])"
      ]
     },
     "execution_count": 16,
     "metadata": {},
     "output_type": "execute_result"
    }
   ],
   "source": [
    "y_pred = model.predict(X_test)\n",
    "y_pred"
   ]
  },
  {
   "cell_type": "markdown",
   "id": "f64c768b",
   "metadata": {},
   "source": [
    "##### Accuracy"
   ]
  },
  {
   "cell_type": "markdown",
   "id": "ffb5e58e",
   "metadata": {},
   "source": [
    "Accuracy is the proportion of test instances that were classified correctly.\n",
    "\n",
    "$accuracy = \\frac{tp\\ +\\ tn}{tp\\ +\\ tn\\ +\\ fp\\ +\\ fn}$\n",
    " \n",
    "- $tp$ = true positive, nilai target yang diprediksi sesuai dengan nilainya/ positive.\n",
    "- $tn$ = true negative, nilai target yang diprediksi sesuai dengan nilainya/ negative.\n",
    "- $fp$ = false positive, nilai target yang diprediksi tidak sesuai dengan nilainya/ positive.\n",
    "- $fn$ = false negative, nilai target yang diprediksi tidak sesuai dengan nilainya/ negative.\n",
    " \n",
    "Referensi: https://en.wikipedia.org/wiki/Precision_and_recall"
   ]
  },
  {
   "cell_type": "code",
   "execution_count": 17,
   "id": "acbb1f15",
   "metadata": {},
   "outputs": [
    {
     "name": "stdout",
     "output_type": "stream",
     "text": [
      "Accuracy: 0.75\n"
     ]
    }
   ],
   "source": [
    "from sklearn.metrics import accuracy_score\n",
    "\n",
    "acc = accuracy_score(y_test, y_pred)\n",
    "\n",
    "print(f'Accuracy: {acc}')"
   ]
  },
  {
   "cell_type": "markdown",
   "id": "38f84809",
   "metadata": {},
   "source": [
    "##### Precission "
   ]
  },
  {
   "cell_type": "markdown",
   "id": "ba4d5576",
   "metadata": {},
   "source": [
    "Precision is the proportion of test instances that were predicted to be positive that are truly positive. \n",
    "\n",
    "$precission = \\frac{tp}{tp\\ +\\ fp}$\n",
    "\n",
    "Referensi: https://en.wikipedia.org/wiki/Precision_and_recall"
   ]
  },
  {
   "cell_type": "code",
   "execution_count": 18,
   "id": "d7bf3a92",
   "metadata": {},
   "outputs": [
    {
     "name": "stdout",
     "output_type": "stream",
     "text": [
      "Precission: 0.6666666666666666\n"
     ]
    }
   ],
   "source": [
    "from sklearn.metrics import precision_score\n",
    "\n",
    "prec = precision_score(y_test, y_pred)\n",
    "\n",
    "print(f'Precission: {prec}')"
   ]
  },
  {
   "cell_type": "markdown",
   "id": "b8760ad2",
   "metadata": {},
   "source": [
    "##### Recall "
   ]
  },
  {
   "cell_type": "markdown",
   "id": "3a4bc45e",
   "metadata": {},
   "source": [
    "Recall is the proportion of truly positive test instances that were predicted to be positive.\n",
    "\n",
    "$recall = \\frac{tp}{tp\\ + \\ fn}$\n",
    "\n",
    "Referensi: https://en.wikipedia.org/wiki/Precision_and_recall"
   ]
  },
  {
   "cell_type": "code",
   "execution_count": 19,
   "id": "998c0678",
   "metadata": {},
   "outputs": [
    {
     "name": "stdout",
     "output_type": "stream",
     "text": [
      "Recall: 1.0\n"
     ]
    }
   ],
   "source": [
    "from sklearn.metrics import recall_score\n",
    "\n",
    "rec = recall_score(y_test, y_pred)\n",
    "\n",
    "print(f'Recall: {rec}')"
   ]
  },
  {
   "cell_type": "markdown",
   "id": "28d325e7",
   "metadata": {},
   "source": [
    "##### F1 Score "
   ]
  },
  {
   "cell_type": "markdown",
   "id": "4fc6a48e",
   "metadata": {},
   "source": [
    "The F1 score is the harmonic mean of precision and recall.\n",
    "\n",
    "$F1 = 2 \\times \\frac{precission\\ \\times \\ recall}{precission\\ + \\ recall}$\n",
    "\n",
    "Referensi: https://en.wikipedia.org/wiki/Precision_and_recall"
   ]
  },
  {
   "cell_type": "code",
   "execution_count": 20,
   "id": "3f131647",
   "metadata": {},
   "outputs": [
    {
     "name": "stdout",
     "output_type": "stream",
     "text": [
      "F1-score: 0.8\n"
     ]
    }
   ],
   "source": [
    "from sklearn.metrics import f1_score\n",
    "\n",
    "f1 = f1_score(y_test, y_pred)\n",
    "\n",
    "print(f'F1-score: {f1}')"
   ]
  },
  {
   "cell_type": "markdown",
   "id": "e7a7a4ea",
   "metadata": {},
   "source": [
    "##### Classification Report"
   ]
  },
  {
   "cell_type": "markdown",
   "id": "05cab598",
   "metadata": {},
   "source": [
    "- Keempat matrix diatas dapat ditampilkan menggunakan fungsi `classification_report()`.\n",
    "- Report yang dihasilkan dari keseluruhan kelas. Dimana pria bernilai 0 dan wanita bernilai 1.\n",
    "- Nilai accuracy tidak bergantung kepada kelas. \n",
    "- Report ini bertujuan untuk binary classifier, yang berarti tidak bergantung pada kelas sehingga tetap diartikan menjadi 2 kelompok nilai 0 dan 1."
   ]
  },
  {
   "cell_type": "code",
   "execution_count": 21,
   "id": "12a186ca",
   "metadata": {},
   "outputs": [
    {
     "name": "stdout",
     "output_type": "stream",
     "text": [
      "Classification Report:\n",
      "              precision    recall  f1-score   support\n",
      "\n",
      "           0       1.00      0.50      0.67         2\n",
      "           1       0.67      1.00      0.80         2\n",
      "\n",
      "    accuracy                           0.75         4\n",
      "   macro avg       0.83      0.75      0.73         4\n",
      "weighted avg       0.83      0.75      0.73         4\n",
      "\n"
     ]
    }
   ],
   "source": [
    "from sklearn.metrics import classification_report\n",
    "\n",
    "cls_report = classification_report(y_test, y_pred)\n",
    "\n",
    "print(f'Classification Report:\\n{cls_report}')"
   ]
  },
  {
   "cell_type": "markdown",
   "id": "465f5c13",
   "metadata": {},
   "source": [
    "##### Matthews Correlation Coefficient (MCC)"
   ]
  },
  {
   "cell_type": "markdown",
   "id": "f2cea197",
   "metadata": {},
   "source": [
    "- MCC is an alternative to the F1 score for measuring the performance of binary classifiers. \n",
    "- A perfect classifier's MCC is 1. \n",
    "- A trivial classifier that predicts randomly will score 0, and a perfectly wrong classifier will score -1.\n",
    "\n",
    "$MCC = \\frac{tp\\ \\times\\ tn\\ + fp\\ \\times\\ fn}{ \\sqrt{ (tp\\ +\\ fp)\\ \\times\\ (tp\\ +\\ fn)\\ \\times\\ (tn\\ +\\ fp)\\ \\times\\ (tn\\ +\\ fn)  }  }$\n",
    "\n",
    "Referensi: https://en.wikipedia.org/wiki/Matthews_correlation_coefficient"
   ]
  },
  {
   "cell_type": "code",
   "execution_count": 22,
   "id": "f5bd5452",
   "metadata": {},
   "outputs": [
    {
     "name": "stdout",
     "output_type": "stream",
     "text": [
      "MCC: 0.5773502691896258\n"
     ]
    }
   ],
   "source": [
    "from sklearn.metrics import matthews_corrcoef\n",
    "\n",
    "mcc = matthews_corrcoef(y_test, y_pred)\n",
    "\n",
    "print(f'MCC: {mcc}')"
   ]
  }
 ],
 "metadata": {
  "kernelspec": {
   "display_name": "Python 3",
   "language": "python",
   "name": "python3"
  },
  "language_info": {
   "codemirror_mode": {
    "name": "ipython",
    "version": 3
   },
   "file_extension": ".py",
   "mimetype": "text/x-python",
   "name": "python",
   "nbconvert_exporter": "python",
   "pygments_lexer": "ipython3",
   "version": "3.8.8"
  }
 },
 "nbformat": 4,
 "nbformat_minor": 5
}
